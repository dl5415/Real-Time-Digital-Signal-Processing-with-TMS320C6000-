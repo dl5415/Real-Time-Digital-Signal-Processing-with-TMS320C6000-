{
  "nbformat": 4,
  "nbformat_minor": 0,
  "metadata": {
    "colab": {
      "name": "EE380L_HW1.ipynb",
      "provenance": [],
      "collapsed_sections": [
        "Dmd_OAW4j1cG",
        "Zk_Z-268paKQ",
        "-4NJE_VXpV95",
        "R3TKIUy3pYAK"
      ],
      "include_colab_link": true
    },
    "kernelspec": {
      "name": "python3",
      "display_name": "Python 3"
    },
    "language_info": {
      "name": "python"
    }
  },
  "cells": [
    {
      "cell_type": "markdown",
      "metadata": {
        "id": "view-in-github",
        "colab_type": "text"
      },
      "source": [
        "<a href=\"https://colab.research.google.com/github/dl5415/RTDSP/blob/master/EE380L_HW1.ipynb\" target=\"_parent\"><img src=\"https://colab.research.google.com/assets/colab-badge.svg\" alt=\"Open In Colab\"/></a>"
      ]
    },
    {
      "cell_type": "markdown",
      "metadata": {
        "id": "Dmd_OAW4j1cG"
      },
      "source": [
        "# <p style=\"text-align: center;\">EE 380L: Data Mining</p>\n",
        "# <p style=\"text-align: center;\">Assignment 1</p>\n",
        "## <p style=\"text-align: center;\">Total points: 70 </p>\n",
        "## <p style=\"text-align: center;\">Due: **8th September 2021(09/08/2021)** submitted via Canvas by 11:59 pm</p>\n",
        "\n",
        "Your homework should be written in a **Jupyter notebook**. You may work in groups of two if you wish. Only one student per team needs to submit the assignment on Canvas.  But be sure to include name and UT eID for both students.\n",
        "\n",
        "Also, please make sure your code runs and the graphics (and anything else) are displayed in your notebook before submitting. (%matplotlib inline)*\n",
        "\n",
        "For the descriptive questions, you can write down the solution in paper and embed a picture of it to the notebook or type it out."
      ]
    },
    {
      "cell_type": "markdown",
      "metadata": {
        "id": "q2ksBeTQkACL"
      },
      "source": [
        "# Question 1: MLOps (10 pts)\n",
        "Read this [article](https://towardsdatascience.com/what-is-mlops-everything-you-must-know-to-get-started-523f2d0b8bd8) \"What is MLOps — Everything You Must Know to Get Started\", which gives a quick walkthrough of the machine learning development lifecycle and explains how MLOps come into play, or watch this [video](https://www.youtube.com/watch?v=06-AZXmwHjo) which you may find interesting.\n",
        "\n",
        "1. (**4 pts**) Use your own words to describe what MLOps is, and what challenges MLOps address. Limit your answer to one paragraph.\n",
        "\n",
        "2. (**6 pts**) Describe what the main phases in MLOps are. Your answer should be 2-3 paragraphs.\n",
        "\n"
      ]
    },
    {
      "cell_type": "markdown",
      "metadata": {
        "id": "uNp0YOGUqO1I"
      },
      "source": [
        " Answer:\n",
        " Machine Learning operations (MLOps) is an engineering discipline that assists organisations to deploy, manage and automate ML capabilities efficiently in production environments, so that they are used as useful tools to solve business problems. Since MLOps automates the ML pipeline (e.g. model training/retraining), it helps to ensure that models are constantly up-to-date and reflective of changing business objectives. In addition, the automation helps bring AI products faster into markets, with timely updates, thereby improving customer experience. Also, MLOps can optimise productivity by facilitating communication between experts in charge of different components of the ML pipeline (e.g. the data scientists that build the model, business management teams that set the high-level business goals, and engineers that deploy the models).\n",
        "\n",
        "MLOps consists of several important phases. \n",
        "(1) Define problem statement and brainstorm ML solution to business problem. This also involves defining performance metrics and conducting research to decide on achievable performance of solutions. \n",
        "(2) Data search: search for appropiate data to train models,and develop suitable, standard labeling procedure as well as clean labels. \n",
        "(3) Data preparation/processing: to ensure a good performing model is built, data cleaning is important. Also feature engineering should be conducted to select most representative features for the problem statement. \n",
        "(4) Model development: train, evaluate and fine-tune different ML models, and select one based on defined performance metrics and acceptable performance. Establish a baseline and compare model perf to baselin perf. Version control is important to keep track of changes in code, algorithm, hyperparameters and etc.\n",
        "(5) Build ML pipeline: based on system and cloud architecture requirements, construct ML pipeline\n",
        "(6) Deployment: Release or integrate the developed model to a real-world business setting. \n",
        "(7) Monitor of ML pipeline deployed models and maintenance: this will be an iterative process consisting of continuous monitoring and improvement of the model and the entire pipeline. This involves establishing evaluation metric and keeping track of errors and changes to model performances. \n",
        "\n",
        "\n",
        "\n",
        " \n",
        " \n",
        "\n",
        "\n",
        "\n",
        "\n",
        "\n"
      ]
    },
    {
      "cell_type": "markdown",
      "metadata": {
        "id": "tvoq31kYkOnI"
      },
      "source": [
        "# Question 2:  Optimal Weights for Linear Regression (10 pts)\n",
        "This question is a practise for you all to understand mathematically the assumptions of linear regression model.\n",
        "\n",
        "Consider linear regression with 2 independent variables. Thus, predicted values are given by:  \n",
        "$$y  = w_0  + w_1 x $$\n",
        "\n",
        "Suppose assumptions behind linear regression hold: \n",
        "1. Given $x$, the expected target value  is linear in $x$.\n",
        "2. All distributions around the expected values are assumed to be i.i.d. zero mean Gaussian with constant variance.\n",
        "\n",
        "a) Derive the values of $w_0$ and $w_1$ minimizing **MSE** with respect to $n$ samples $(x_i,y_i)$ where $x_i$ is input variable and $y_i$ is ground truth target.(5pts)\n",
        "\n",
        "b) Mathematically show the optimal weights $w_0$ and $w_1$ minimizing **MSE**  are indeed the  **maximum likelihood solution** of the corresponding underlying probability model relating the target variable to the input variable.(5pts)"
      ]
    },
    {
      "cell_type": "markdown",
      "metadata": {
        "id": "Zk_Z-268paKQ"
      },
      "source": [
        "## Answer:\n",
        "\n",
        "### MSE\n",
        "\n",
        "Let the MSE be denoted as z.\n",
        "\n",
        "$$z(w_0,w_1)= \\frac{\\sum_{i=1}^n (y_i - (w_0+w_1 x))^2}{n}$$\n",
        "\n",
        "\n",
        "\n",
        "$$\\frac{dz}{w_0} = -2\\frac{\\sum_{i=1}^n (y_i - (w_0+w_1 x_i))}{n} $$\n",
        "\n",
        "We set the first derivative to 0 to find the optimal solution. z is a convex function in $(w_0,w_1)$ and hence this will give us the minima.\n",
        "\n",
        "$$ 2\\frac{\\sum_{i=1}^n (y_i - (w_0+w_1 x_i))}{n}  = 0 $$\n",
        "$$ w_0 =\\frac{\\sum_{i=1}^n (y_i-w_1 x_i)}{n}$$\n",
        "\n",
        "We do the same for $w_1$:\n",
        "\n",
        "$$\\frac{dz}{w_1} = 2\\frac{\\sum_{i=1}^n -x_i(y_i - (w_0+w_1 x_i))}{n}$$\n",
        "\n",
        "$$\\frac{dz}{w_1}   = 0 \\implies 2\\frac{\\sum_{i=1}^n -x_i(y_i - (w_0+w_1 x_i))}{n}  = 0 $$\n",
        "$$ \\implies \\sum_{i=1}^n (-x_i y_i +  w_0 x_i + w_1 x_i^2)  = 0 $$\n",
        "$$ \\implies \\sum_{i=1}^n (-x_i y_i +  \\frac{\\sum_{i=1}^n (y_i-w_1 x_i)}{n} x_i + w_1 x_i^2)  = 0 $$\n",
        "We now substitute the optimal value for $w_0$ here:\n",
        "$$ \\implies \\sum_{i=1}^n (-x_i y_i +  x_i\\frac{\\sum_{i=1}^n y_i}{n} -w_1x_i\\frac{\\sum_{i=1}^n  x_i}{n}  + w_1 x_i^2)  = 0 $$\n",
        "$$ \\implies  w_1 =  \\frac{\\sum_{i=1}^n (x_i y_i - x_i\\frac{\\sum_{i=1}^n y_i}{n})}{\\sum_{i=1}^n (x_i^2-x_i\\frac{\\sum_{i=1}^n  x_i}{n})}$$\n",
        "\n",
        "Substituting this value of $w_1$ in the expression for $w_0$ gives:\n",
        "\n",
        "$$ w_0 =\\frac{\\sum_{i=1}^n (y_i-(\\frac{\\sum_{i=1}^n (x_i y_i - x_i\\frac{\\sum_{i=1}^n y_i}{n})}{\\sum_{i=1}^n (x_i^2-x_i\\frac{\\sum_{i=1}^n  x_i}{n})}) x_i)}{n}$$\n",
        "\n",
        "### MLE\n",
        "\n",
        "The probability model assumes that $E = Y - (w_0+w_1 X)$, where $X$ is the random variable corresponding to observations $x$ and $Y$ is the random variable corresponding to observations $y$, is a i.i.d. zero mean Gaussian with constant variance, say $\\sigma^2$.\n",
        "\n",
        "Define $e_i= y_i - (w_0+w_1 x_i)$ for observations $x_i$ and target $y_i$. The likelihood of observing $w_0+w_1 x_i$, given that $X=x_i$, is thus\n",
        "\n",
        "$$P(E=e_i) = \\frac{\\exp(\\frac{(y_i - (w_0+w_1 x_i))^2}{\\sigma^2})}{\\sqrt{(2\\pi\\sigma^2)}}$$\n",
        "\n",
        "For $i=1$ to $n$, the likelihood of observing $e_i$ is thus\n",
        "\n",
        "$$L = \\Pi_{i=1}^n \\frac{\\exp(\\frac{(y_i - (w_0+w_1 x_i))^2}{\\sigma^2})}{\\sqrt{(2\\pi\\sigma^2)}}$$\n",
        "\n",
        "Taking the log of this gives us the log-likelihood:\n",
        "\n",
        "$$\\log L =\\sum_{i=1}^n \\frac{(y_i - (w_0+w_1 x_i))^2}{\\sigma^2}) - \\sum_{i=1}^n \\log {\\sqrt{(2\\pi\\sigma^2)}}$$\n",
        "\n",
        "We can take the log because it is a monotonic function, and we do so because it simplifies the expression.\n",
        "Minimizing this is equivalent to MSE minimization as the only relevant term (the first term) is identical to MSE."
      ]
    },
    {
      "cell_type": "markdown",
      "metadata": {
        "id": "hRXWs2IfnrhZ"
      },
      "source": [
        "# Question 3: Maximum Likelihood Estimate (10 pts)\n",
        "\n",
        "60 students in our class were asked for their preference between attending in person or attending remotely this semester during pandemic. They reported their preferences by entering No or Yes in the survey. We use 0 represents preferring attending remotely and 1 represents preferring attending in person. A random sample of 20 students yielded the following preferences:\n",
        "\n",
        "$$0 0 1 1 0 1 0 1 1 1 0 1 1 0 1 0 0 1 1 1$$\n",
        "\n",
        "These choices are assumed to arise by independent and identically distributed (i.i.d.) sampling from the following distribution and if the unknown parameter $q$ can be estimated, then we can provide more insights about the students' preference during pandemic.\n",
        "\n",
        "$$\n",
        "\\begin{equation}\n",
        "\\nonumber P(x) = \\left\\{\n",
        "\\begin{array}{l l}\n",
        "    q& \\quad \\text{for  } x=0\\\\\n",
        "1-q & \\quad \\text{for } x=1\n",
        "\\end{array} \\right.\n",
        "\\end{equation}\n",
        "$$\n",
        "\n",
        "Based on the definitions given above, identify the likelihood function and derive the **maximum likelihood estimator** of $q$. Using the given sample, find a maximum likelihood estimate of $q$ as well."
      ]
    },
    {
      "cell_type": "markdown",
      "metadata": {
        "id": "-4NJE_VXpV95"
      },
      "source": [
        "## Answer: \n",
        "For $n$ observations $x_i$, the likelihood of observing responses $y_i$ with $m$ zeroes and $n-m$ ones is given by (strictly speaking, it is only proportional to:)\n",
        "\n",
        "$$ L  q^m(1-q)^{n-m} $$\n",
        "\n",
        "Taking the logarithm,\n",
        "\n",
        "$$ \\log L = m \\log q + (n-m)\\log (1-q) $$\n",
        "\n",
        "\n",
        "\n",
        "The value of $q$ which is most likely to have produced the observations can be found by setting the derivative to 0. \n",
        "\n",
        "$$\\frac{d \\log L}{dq} = 0 \\implies \\frac{m}{q}=\\frac{(n-m)}{1-q}$$\n",
        "$$q(n-m) = (1-q)m$$\n",
        "$$q= \\frac{m}{n}$$\n",
        "\n",
        "Here $m=8$ and $n=20$, hence $q=0.4$.\n"
      ]
    },
    {
      "cell_type": "markdown",
      "metadata": {
        "id": "ipfvAOBUkF03"
      },
      "source": [
        "# Question 3: Simpson's Paradox (10 pts)\n",
        "A data scientist should be careful about drawing unwarranted conclusions about any data that is presented. One of the 'gotchas' that can happen even in apparently very simple tabular summaries, is called Simpson's paradox.\n",
        "\n",
        "Read this [article](https://www.covid-datascience.com/post/israeli-data-how-can-efficacy-vs-severe-disease-be-strong-when-60-of-hospitalized-are-vaccinated), which explains why the computed efficacy of the Pfizer vaccine is misleadingly low (67.5%) when you lump all people together, but once you stratify people by age (which is the right thing to do), you get much higher efficacy numbers.\n",
        "\n",
        "1.(**5 pts**) Explain in your own words what Simpson's paradox is, and how this 'paradox' can happen in real data.\n",
        "\n",
        "2.(**5 pts**) Find and mention another example of Simpson's paradox (but not any of the 3 examples given in the Wikipedia entry for 'Simpson's paradox'), state why the paradox appeared in your chosen example. Also give a reference (URL) to your source for the chosen example.\n"
      ]
    },
    {
      "cell_type": "markdown",
      "metadata": {
        "id": "R3TKIUy3pYAK"
      },
      "source": [
        "## Answer:\n",
        "(1) Simpson's paradox is a statistics phenomenon in which trends that appear on several different groups of data reverse or disappear when these groups of data are accumulated. For instance, a positive correlation that exists in separate groups of data may become negative when the groups are aggregated. This paradox is often as a result of failure to consider \"lurking\" variable, which can affect the conclusions of the relationships of variables. Also, improper pooling of groups can also contribute to this phenomenon. \n",
        "\n",
        "(2) A NY times report suggested that the median US wage has risen about 1% (adjusted for inflation) between 2000 and 2013. However, after dividing population into education subgroups (High School Dropouts, High school Graduates, College graduates etc.), the median wage of each subgroup has actually fallen. This is an example of the Simpson's paradox. The paradox appeared as a result of the changing number of population in each educational subgroup. There are significantly more college graduates and less high school drop-outs working in 2013 compared to 2000. College graduates generally have higher wages and their wages have fallen at significantly slower rate than that of other groups. As a result of this growth in the proportion of college graduates, the wage decline for specific groups are shadowed and not reflected in the aggregated data.\n",
        "\n",
        "https://economix.blogs.nytimes.com/2013/05/01/can-every-group-be-worse-than-average-yes/\n",
        "\n",
        "\n"
      ]
    },
    {
      "cell_type": "markdown",
      "metadata": {
        "id": "35YZ_LRUpowS"
      },
      "source": [
        "# Question 4: Ridge and Lasso Regression (30 pts)\n",
        "\n",
        "Download the dataset **Admission.csv** from Canvas and use the following codes to import the Admission dataset in Python. \n",
        "\n",
        "There are 7 features in the dataset:\n",
        "\n",
        "1. GRE score\n",
        "2. TOEFL score\n",
        "3. University Rating\n",
        "4. SOP(Statement of Purpose)\n",
        "5. LOR(Letter of Recommendation)\n",
        "6. CGPA\n",
        "7. Research\n",
        "\n",
        "And the target is **Chance of Admission**."
      ]
    },
    {
      "cell_type": "code",
      "metadata": {
        "colab": {
          "resources": {
            "http://localhost:8080/nbextensions/google.colab/files.js": {
              "data": "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",
              "ok": true,
              "headers": [
                [
                  "content-type",
                  "application/javascript"
                ]
              ],
              "status": 200,
              "status_text": ""
            }
          },
          "base_uri": "https://localhost:8080/",
          "height": 72
        },
        "id": "pbBBG-rqsnAl",
        "outputId": "f4910389-a72c-4f71-88f7-763476e0086b"
      },
      "source": [
        "# Only use this code block if you are using Google Colab.\n",
        "# If you are using Jupyter Notebook, please ignore this code block. You can directly upload the file to your Jupyter Notebook file systems.\n",
        "from google.colab import files\n",
        "\n",
        "## It will prompt you to select a local file. Click on “Choose Files” then select and upload the file. \n",
        "## Wait for the file to be 100% uploaded. You should see the name of the file once Colab has uploaded it.\n",
        "uploaded = files.upload()"
      ],
      "execution_count": 1,
      "outputs": [
        {
          "output_type": "display_data",
          "data": {
            "text/html": [
              "\n",
              "     <input type=\"file\" id=\"files-1c5716a3-63be-4c86-a9e7-0c91f35cb104\" name=\"files[]\" multiple disabled\n",
              "        style=\"border:none\" />\n",
              "     <output id=\"result-1c5716a3-63be-4c86-a9e7-0c91f35cb104\">\n",
              "      Upload widget is only available when the cell has been executed in the\n",
              "      current browser session. Please rerun this cell to enable.\n",
              "      </output>\n",
              "      <script src=\"/nbextensions/google.colab/files.js\"></script> "
            ],
            "text/plain": [
              "<IPython.core.display.HTML object>"
            ]
          },
          "metadata": {}
        },
        {
          "output_type": "stream",
          "name": "stdout",
          "text": [
            "Saving Admission.csv to Admission.csv\n"
          ]
        }
      ]
    },
    {
      "cell_type": "code",
      "metadata": {
        "id": "xysGqwjKrIax"
      },
      "source": [
        "import numpy as np\n",
        "import pandas as pd\n",
        "import random\n",
        "from sklearn import linear_model\n",
        "from sklearn.metrics import mean_absolute_error, mean_squared_error, r2_score\n",
        "from sklearn.linear_model import LogisticRegression, Lasso, Ridge, ElasticNet, LinearRegression\n",
        "from sklearn.model_selection import train_test_split, GridSearchCV\n",
        "from sklearn import preprocessing\n",
        "from sklearn.model_selection import KFold\n",
        "import matplotlib.pyplot as plt\n",
        "## Load the dataset into pandas DataFrame\n",
        "df = pd.read_csv('Admission.csv', index_col=0)\n",
        "df = df.replace([np.inf, -np.inf], np.nan) # \n",
        "df = df.fillna(0) # Replace all the NaN values with 0"
      ],
      "execution_count": 32,
      "outputs": []
    },
    {
      "cell_type": "code",
      "metadata": {
        "id": "Ak2iZWpG2lMg",
        "colab": {
          "base_uri": "https://localhost:8080/"
        },
        "outputId": "ad941473-3e81-4a2e-9865-50bcff0bbae4"
      },
      "source": [
        "df.columns # Show you all the columns in this file"
      ],
      "execution_count": 3,
      "outputs": [
        {
          "output_type": "execute_result",
          "data": {
            "text/plain": [
              "Index(['GRE_Score', 'TOEFL_Score', 'University_Rating', 'SOP', 'LOR ', 'CGPA',\n",
              "       'Research', 'Chance_of_Admit'],\n",
              "      dtype='object')"
            ]
          },
          "metadata": {},
          "execution_count": 3
        }
      ]
    },
    {
      "cell_type": "code",
      "metadata": {
        "colab": {
          "base_uri": "https://localhost:8080/",
          "height": 235
        },
        "id": "ZRyhplOD2lP6",
        "outputId": "8ac785a7-88c2-4e05-8ec4-490ee6cf8621"
      },
      "source": [
        "df.head() # Show you the first 5 rows in this file"
      ],
      "execution_count": 4,
      "outputs": [
        {
          "output_type": "execute_result",
          "data": {
            "text/html": [
              "<div>\n",
              "<style scoped>\n",
              "    .dataframe tbody tr th:only-of-type {\n",
              "        vertical-align: middle;\n",
              "    }\n",
              "\n",
              "    .dataframe tbody tr th {\n",
              "        vertical-align: top;\n",
              "    }\n",
              "\n",
              "    .dataframe thead th {\n",
              "        text-align: right;\n",
              "    }\n",
              "</style>\n",
              "<table border=\"1\" class=\"dataframe\">\n",
              "  <thead>\n",
              "    <tr style=\"text-align: right;\">\n",
              "      <th></th>\n",
              "      <th>GRE_Score</th>\n",
              "      <th>TOEFL_Score</th>\n",
              "      <th>University_Rating</th>\n",
              "      <th>SOP</th>\n",
              "      <th>LOR</th>\n",
              "      <th>CGPA</th>\n",
              "      <th>Research</th>\n",
              "      <th>Chance_of_Admit</th>\n",
              "    </tr>\n",
              "    <tr>\n",
              "      <th>Serial No.</th>\n",
              "      <th></th>\n",
              "      <th></th>\n",
              "      <th></th>\n",
              "      <th></th>\n",
              "      <th></th>\n",
              "      <th></th>\n",
              "      <th></th>\n",
              "      <th></th>\n",
              "    </tr>\n",
              "  </thead>\n",
              "  <tbody>\n",
              "    <tr>\n",
              "      <th>1</th>\n",
              "      <td>337</td>\n",
              "      <td>118</td>\n",
              "      <td>4</td>\n",
              "      <td>4.5</td>\n",
              "      <td>4.5</td>\n",
              "      <td>9.65</td>\n",
              "      <td>1</td>\n",
              "      <td>0.92</td>\n",
              "    </tr>\n",
              "    <tr>\n",
              "      <th>2</th>\n",
              "      <td>324</td>\n",
              "      <td>107</td>\n",
              "      <td>4</td>\n",
              "      <td>4.0</td>\n",
              "      <td>4.5</td>\n",
              "      <td>8.87</td>\n",
              "      <td>1</td>\n",
              "      <td>0.76</td>\n",
              "    </tr>\n",
              "    <tr>\n",
              "      <th>3</th>\n",
              "      <td>316</td>\n",
              "      <td>104</td>\n",
              "      <td>3</td>\n",
              "      <td>3.0</td>\n",
              "      <td>3.5</td>\n",
              "      <td>8.00</td>\n",
              "      <td>1</td>\n",
              "      <td>0.72</td>\n",
              "    </tr>\n",
              "    <tr>\n",
              "      <th>4</th>\n",
              "      <td>322</td>\n",
              "      <td>110</td>\n",
              "      <td>3</td>\n",
              "      <td>3.5</td>\n",
              "      <td>2.5</td>\n",
              "      <td>8.67</td>\n",
              "      <td>1</td>\n",
              "      <td>0.80</td>\n",
              "    </tr>\n",
              "    <tr>\n",
              "      <th>5</th>\n",
              "      <td>314</td>\n",
              "      <td>103</td>\n",
              "      <td>2</td>\n",
              "      <td>2.0</td>\n",
              "      <td>3.0</td>\n",
              "      <td>8.21</td>\n",
              "      <td>0</td>\n",
              "      <td>0.65</td>\n",
              "    </tr>\n",
              "  </tbody>\n",
              "</table>\n",
              "</div>"
            ],
            "text/plain": [
              "            GRE_Score  TOEFL_Score  ...  Research  Chance_of_Admit\n",
              "Serial No.                          ...                           \n",
              "1                 337          118  ...         1             0.92\n",
              "2                 324          107  ...         1             0.76\n",
              "3                 316          104  ...         1             0.72\n",
              "4                 322          110  ...         1             0.80\n",
              "5                 314          103  ...         0             0.65\n",
              "\n",
              "[5 rows x 8 columns]"
            ]
          },
          "metadata": {},
          "execution_count": 4
        }
      ]
    },
    {
      "cell_type": "code",
      "metadata": {
        "id": "q92vdBy42pCg"
      },
      "source": [
        "y = df['Chance_of_Admit'] # The column named Chance_of_Admit is used as the target, and we store it in y\n",
        "X = df.drop(['Chance_of_Admit'], axis=1) # We keep the remaining columns as the features, and store them in x"
      ],
      "execution_count": 5,
      "outputs": []
    },
    {
      "cell_type": "markdown",
      "metadata": {
        "id": "mP8q5Hf8qii9"
      },
      "source": [
        "Qs 1"
      ]
    },
    {
      "cell_type": "code",
      "metadata": {
        "colab": {
          "base_uri": "https://localhost:8080/"
        },
        "id": "K-6cmcb4_Alj",
        "outputId": "4a05cf96-f8d1-479e-c54f-73cac967847f"
      },
      "source": [
        "print(X.shape)\n",
        "#split\n",
        "X_train, X_test, Y_train, Y_test = train_test_split(X, y, test_size = 0.25, random_state = 50)\n",
        "#scale the data\n",
        "X_train_scaled = preprocessing.scale(X_train);\n",
        "X_test_scaled = preprocessing.scale(X_test);\n",
        "\n"
      ],
      "execution_count": 42,
      "outputs": [
        {
          "output_type": "stream",
          "name": "stdout",
          "text": [
            "(400, 7)\n"
          ]
        }
      ]
    },
    {
      "cell_type": "code",
      "metadata": {
        "colab": {
          "base_uri": "https://localhost:8080/"
        },
        "id": "5c3t2qOWB4NW",
        "outputId": "aea2d08d-28d2-412f-8664-043534376c3e"
      },
      "source": [
        "#print first 5 rows of training set after scaling\n",
        "X_train_scaled[:5, :]"
      ],
      "execution_count": 43,
      "outputs": [
        {
          "output_type": "execute_result",
          "data": {
            "text/plain": [
              "array([[ 1.52725374,  2.0917706 ,  1.61594354,  0.63150829,  1.72829095,\n",
              "         2.11370277,  0.90453403],\n",
              "       [ 0.74180896,  0.46308859, -0.9310778 , -0.35266047, -1.04140609,\n",
              "         0.29488827,  0.90453403],\n",
              "       [ 0.56726568,  0.13735218,  1.61594354,  0.63150829,  0.62041214,\n",
              "         0.26211684,  0.90453403],\n",
              "       [-0.39272239, -0.51412062, -0.08207069,  0.13942391,  0.62041214,\n",
              "        -0.80295471, -1.1055416 ],\n",
              "       [ 0.47999403,  0.78882499,  0.76693642,  1.12359267,  1.17435154,\n",
              "         1.11417408,  0.90453403]])"
            ]
          },
          "metadata": {},
          "execution_count": 43
        }
      ]
    },
    {
      "cell_type": "code",
      "metadata": {
        "id": "klSS3QCZMPoG"
      },
      "source": [
        "Y_train = np.array(Y_train)\n",
        "Y_test = np.array(Y_test)\n"
      ],
      "execution_count": 44,
      "outputs": []
    },
    {
      "cell_type": "markdown",
      "metadata": {
        "id": "b3T-myVNqmJx"
      },
      "source": [
        "Qs 2"
      ]
    },
    {
      "cell_type": "code",
      "metadata": {
        "colab": {
          "base_uri": "https://localhost:8080/"
        },
        "id": "IL7YWB3RCYfE",
        "outputId": "9871bc2b-2a99-4881-c783-3359fef4355c"
      },
      "source": [
        "#Do 5 fold CV to tune regularisation parameter, using MSE as scoring metric\n",
        "alphas = 10**np.linspace(6,-6,100)\n",
        "#split folds\n",
        "k_fold = KFold(5)\n",
        "#print(k_fold.get_n_splits(X_train_scaled))\n",
        "#kf = KFold(X_train_scaled.shape[0], n_folds = 5)\n",
        "mse_lasso_alphas = list()\n",
        "lasso_cv_score_alphas = list()\n",
        "mse_ridge_alphas = list()\n",
        "ridge_cv_score_alphas = list()\n",
        "for alpha in alphas: #alphas\n",
        "    lasso = Lasso(alpha=alpha)\n",
        "    ridge = Ridge(alpha=alpha)\n",
        "    mse_lasso = list() #fold-wise\n",
        "    lasso_cv_score = list()\n",
        "    mse_ridge = list()\n",
        "    ridge_cv_score = list()\n",
        "    for train_index, test_index in (k_fold.split(X_train_scaled)): #fold\n",
        "        #print(\"TRAIN:\", train_index, \"TEST:\", test_index)\n",
        "        X_train_fold, X_test_fold = X_train_scaled[train_index], X_train_scaled[test_index]\n",
        "        y_train_fold, y_test_fold = Y_train[train_index], Y_train[test_index]\n",
        "        lasso.fit(X_train_fold, y_train_fold)\n",
        "        y_hat = lasso.predict(X_test_fold)\n",
        "        mse_lasso.append(mean_squared_error(y_hat, y_test_fold))\n",
        "        #lasso_cv_score.append(lasso.score(X_test,y_test))\n",
        "        ridge.fit(X_train_fold, y_train_fold)\n",
        "        y_hat = ridge.predict(X_test_fold)\n",
        "        mse_ridge.append(mean_squared_error(y_hat, y_test_fold))\n",
        "        #ridge_cv_score.append(lasso.score(X_test,y_test))\n",
        "    #print(\"num of folds\", len(mse_lasso))\n",
        "    mse_lasso_alphas.append(np.average(mse_lasso)) #average of CV metrics\n",
        "    #lasso_cv_score_alphas.append(np.average(lasso_cv_score))\n",
        "    mse_ridge_alphas.append(np.average(mse_ridge))\n",
        "    #ridge_cv_score_alphas.append(np.average(ridge_cv_score))\n",
        "#from MSE\n",
        "#print(\"num of alphas\", len(mse_lasso_alphas))\n",
        "print(\"The best value of alpha for Lasso is: \", alphas[mse_lasso_alphas.index(min(mse_lasso_alphas))])\n",
        "print(\"The minimum MSE obtained with 5-fold CV for Lasso is\", min(mse_lasso_alphas))\n",
        "print(\"The best value of alpha for Ridge is\", alphas[mse_ridge_alphas.index(min(mse_ridge_alphas))])\n",
        "print(\"The minimum MSE obtained with 5-fold CV for Ridge is\", min(mse_ridge_alphas))\n",
        "#from CV metric\n",
        "#print(\"alpha lasso cv score: {1:.5f}\", alphas[lasso_cv_score_alphas.index(min(lasso_cv_score_alphas))])\n",
        "#print(\"alpha ridge cv score: {1:.5f}\", alphas[ridge_cv_score_alphas.index(min(ridge_cv_score_alphas))])"
      ],
      "execution_count": 45,
      "outputs": [
        {
          "output_type": "stream",
          "name": "stdout",
          "text": [
            "The best value of alpha for Lasso is:  0.001072267222010321\n",
            "The minimum MSE obtained with 5-fold CV for Lasso is 0.00409842531805538\n",
            "The best value of alpha for Ridge is 4.641588833612772\n",
            "The minimum MSE obtained with 5-fold CV for Ridge is 0.00411801388424071\n"
          ]
        }
      ]
    },
    {
      "cell_type": "markdown",
      "metadata": {
        "id": "DKesQ4C7fylx"
      },
      "source": [
        "Qs 3: Fitting and Plotting"
      ]
    },
    {
      "cell_type": "code",
      "metadata": {
        "id": "VtzsVQsmMtRE"
      },
      "source": [
        "import matplotlib.pyplot as plt\n",
        "\n",
        "lasso_coeffs = []\n",
        "ridge_coeffs = []\n",
        "\n",
        "for alpha in 10**np.linspace(-6,6,100):\n",
        "    lasso = linear_model.Lasso(alpha)\n",
        "    lasso.fit(X_train_scaled,Y_train)\n",
        "\n",
        "    lasso_coeffs.append(lasso.coef_)\n",
        "    ridge = linear_model.Ridge(alpha)\n",
        "    ridge.fit(X_train_scaled,Y_train)\n",
        "    ridge_coeffs.append(ridge.coef_)\n",
        "\n",
        "lasso_coeffs = np.asarray(lasso_coeffs)\n",
        "ridge_coeffs =  np.asarray(ridge_coeffs)\n",
        "\n",
        "\n"
      ],
      "execution_count": 46,
      "outputs": []
    },
    {
      "cell_type": "code",
      "metadata": {
        "colab": {
          "base_uri": "https://localhost:8080/",
          "height": 618
        },
        "id": "REjJfD8LgFTC",
        "outputId": "b4803f7c-674d-4c80-81db-c00142938225"
      },
      "source": [
        "lasso_fig, lasso_ax = plt.subplots()\n",
        "ridge_fig, ridge_ax = plt.subplots()\n",
        "\n",
        "lasso_ax.plot(np.linspace(-6,6,100),lasso_coeffs)\n",
        "ridge_ax.plot(np.linspace(-6,6,100),ridge_coeffs)\n",
        "for n in range(6):\n",
        "    lasso_ax.lines[n].set_label('coef'+str(n))\n",
        "    ridge_ax.lines[n].set_label('coef'+str(n))\n",
        "\n",
        "lasso_ax.set_xlabel('alpha')\n",
        "lasso_ax.set_ylabel('Coefficient')\n",
        "lasso_fig.legend()\n",
        "\n",
        "ridge_ax.set_xlabel('alpha')\n",
        "ridge_ax.set_ylabel('Coefficient')\n",
        "ridge_fig.legend()"
      ],
      "execution_count": 47,
      "outputs": [
        {
          "output_type": "execute_result",
          "data": {
            "text/plain": [
              "<matplotlib.legend.Legend at 0x7f88ebaf6810>"
            ]
          },
          "metadata": {},
          "execution_count": 47
        },
        {
          "output_type": "display_data",
          "data": {
            "image/png": "[encoded data removed]",
            "text/plain": [
              "<Figure size 432x288 with 1 Axes>"
            ]
          },
          "metadata": {
            "needs_background": "light"
          }
        },
        {
          "output_type": "display_data",
          "data": {
            "image/png": "[encoded data removed]",
            "text/plain": [
              "<Figure size 432x288 with 1 Axes>"
            ]
          },
          "metadata": {
            "needs_background": "light"
          }
        }
      ]
    },
    {
      "cell_type": "markdown",
      "metadata": {
        "id": "tbfhocRG67iE"
      },
      "source": [
        "\n",
        "As value of regularisation parameter (alpha) increases, the coefficient estimates shrink towards zero. With regularisation, we see a regularisation term often consisting of a function of coefficient estimates weighted by a regularisation parameter added to the cost function. For example, in the case of Lasso, the term is a sum of modulus of coefficient estimates weighted by the regularisation parameter. Note that coefficients are estimated by minimising this updated cost function, hence the regularisation term attempts to penalize large coefficient values to limit the flexibility/complexity of the model to avoid overfitting. As a result, at high alphas, coefficient estimates are forced closer to zero. \n",
        "\n"
      ]
    },
    {
      "cell_type": "markdown",
      "metadata": {
        "id": "B6Ei4NtDg2Uv"
      },
      "source": [
        "Qs 4"
      ]
    },
    {
      "cell_type": "code",
      "metadata": {
        "colab": {
          "base_uri": "https://localhost:8080/"
        },
        "id": "117mvqZH8Oov",
        "outputId": "fa2998a5-022d-4bde-be12-4859e08b9a1d"
      },
      "source": [
        "#Qs 4: same as qs 2 but with exponential target\n",
        "#Do 5 fold CV to tune regularisation parameter, using MSE as scoring metric\n",
        "alphas = 10**np.linspace(6,-6,100)\n",
        "#split folds\n",
        "k_fold = KFold(5)\n",
        "#print(k_fold.get_n_splits(X_train_scaled))\n",
        "#kf = KFold(X_train_scaled.shape[0], n_folds = 5)\n",
        "mse_lasso_alphas_exp = list()\n",
        "lasso_cv_score_alphas = list()\n",
        "mse_ridge_alphas_exp = list()\n",
        "ridge_cv_score_alphas = list()\n",
        "Y_train_exp = np.exp(Y_train)\n",
        "for alpha in alphas: #alphas\n",
        "    lasso = Lasso(alpha=alpha)\n",
        "    ridge = Ridge(alpha=alpha)\n",
        "    mse_lasso = list() #fold-wise\n",
        "    lasso_cv_score = list()\n",
        "    mse_ridge = list()\n",
        "    ridge_cv_score = list()\n",
        "    for train_index, test_index in (k_fold.split(X_train_scaled)): #fold\n",
        "        #print(\"TRAIN:\", train_index, \"TEST:\", test_index)\n",
        "        X_train_fold, X_test_fold = X_train_scaled[train_index], X_train_scaled[test_index]\n",
        "        y_train_fold, y_test_fold = Y_train_exp[train_index], Y_train_exp[test_index]\n",
        "        lasso.fit(X_train_fold, y_train_fold)\n",
        "        y_hat = lasso.predict(X_test_fold)\n",
        "        mse_lasso.append(mean_squared_error(y_hat, y_test_fold))\n",
        "        #lasso_cv_score.append(lasso.score(X_test,y_test))\n",
        "        ridge.fit(X_train_fold, y_train_fold)\n",
        "        y_hat = ridge.predict(X_test_fold)\n",
        "        mse_ridge.append(mean_squared_error(y_hat, y_test_fold))\n",
        "        #ridge_cv_score.append(lasso.score(X_test,y_test))\n",
        "    #print(\"num of folds\", len(mse_lasso))\n",
        "    mse_lasso_alphas_exp.append(np.average(mse_lasso)) #average of CV metrics\n",
        "    #lasso_cv_score_alphas.append(np.average(lasso_cv_score))\n",
        "    mse_ridge_alphas_exp.append(np.average(mse_ridge))\n",
        "    #ridge_cv_score_alphas.append(np.average(ridge_cv_score))\n",
        "#from MSE\n",
        "#print(\"num of alphas\", len(mse_lasso_alphas_exp))\n",
        "print(\"The best value of alpha for Lasso with exp y is\", alphas[mse_lasso_alphas_exp.index(min(mse_lasso_alphas_exp))])\n",
        "print(\"The minimum MSE obtained with 5-fold CV for Lasso with exp y\", min(mse_lasso_alphas_exp))\n",
        "print(\"The best value of alpha for Ridge with exp y is\", alphas[mse_ridge_alphas_exp.index(min(mse_ridge_alphas_exp))])\n",
        "print(\"The minimum MSE obtained with 5-fold CV for Ridge with exp y\", min(mse_ridge_alphas_exp))\n"
      ],
      "execution_count": 48,
      "outputs": [
        {
          "output_type": "stream",
          "name": "stdout",
          "text": [
            "The best value of alpha for Lasso with exp y is 0.0018738174228603867\n",
            "The minimum MSE obtained with 5-fold CV for Lasso with exp y 0.01476731964422993\n",
            "The best value of alpha for Ridge with exp y is 6.135907273413176\n",
            "The minimum MSE obtained with 5-fold CV for Ridge with exp y 0.014815008775351052\n"
          ]
        }
      ]
    },
    {
      "cell_type": "markdown",
      "metadata": {
        "id": "kWRCLWl157gG"
      },
      "source": [
        "Comparing the results of using the original target with the results of using the exponential of the target, it can be observed that MSE with exponential target increased in both lasso and ridge regularisation case. Transforming the targets by introducing non-linearity (via exponential targets) reduces the accuracy of fitting with a linear model\n"
      ]
    },
    {
      "cell_type": "markdown",
      "metadata": {
        "id": "L3rl-hZMkDsj"
      },
      "source": [
        "Qs 5"
      ]
    },
    {
      "cell_type": "code",
      "metadata": {
        "id": "Lr-ta_eh9V_y"
      },
      "source": [
        "from sklearn.linear_model import ElasticNet\n",
        "\n",
        "elastic_coeffs = []\n",
        "\n",
        "for alpha in 10**np.linspace(-6,6,100):\n",
        "    elastic = ElasticNet(alpha)\n",
        "    elastic.fit(X_train_scaled,Y_train)\n",
        "    elastic_coeffs.append(elastic.coef_)\n",
        "\n",
        "elastic_coeffs = np.asarray(elastic_coeffs)\n"
      ],
      "execution_count": 49,
      "outputs": []
    },
    {
      "cell_type": "code",
      "metadata": {
        "colab": {
          "base_uri": "https://localhost:8080/",
          "height": 326
        },
        "id": "G5c0O7thkKh5",
        "outputId": "3e33dc19-8539-4dad-f9b3-fd29f4f4bd56"
      },
      "source": [
        "elastic_fig, elastic_ax = plt.subplots()\n",
        "\n",
        "elastic_ax.plot(np.linspace(-6,6,100),elastic_coeffs)\n",
        "for n in range(6):\n",
        "    elastic_ax.lines[n].set_label('coef'+str(n))\n",
        "\n",
        "elastic_ax.set_xlabel('alpha')\n",
        "elastic_ax.set_ylabel('Coefficient')\n",
        "elastic_ax.set_title('Elastic')\n",
        "elastic_fig.legend()"
      ],
      "execution_count": 50,
      "outputs": [
        {
          "output_type": "execute_result",
          "data": {
            "text/plain": [
              "<matplotlib.legend.Legend at 0x7f88eb9e7b90>"
            ]
          },
          "metadata": {},
          "execution_count": 50
        },
        {
          "output_type": "display_data",
          "data": {
            "image/png": "[encoded data removed]",
            "text/plain": [
              "<Figure size 432x288 with 1 Axes>"
            ]
          },
          "metadata": {
            "needs_background": "light"
          }
        }
      ]
    },
    {
      "cell_type": "markdown",
      "metadata": {
        "id": "3JcV2qOg88LP"
      },
      "source": [
        "\n",
        "Lasso penalizes the sum of absolute values of regression coefficients; consequently, at higher values of alphas estimated coefficients can reach zero. This is indeed the case with plot of Lasso coefficient estimates vs alpha, where values of all estimates reach zero after approximately alpha > -1. Hence, Lasso can perform variable selection and can beneficially reduce complexity of a model when it can be represented by only a small number of representative features. However, when features are highly correlated, Lasso has no way to interpret which feature is more representative than the other, and tends to select one feature randomly. In addition, if the number of features (M) is larger than number of observations (N), Lasso can only select maximum of N features, disregarding other features potentially important to model output. \n",
        "\n",
        "On the other hand, Ridge penalises the sum of squared regression coefficients' magnitudes, therefore coefficients approach zero at larger alphas but never equal to zero. A disadvantage of this approach is that number of features are not reduced, therefore Ridge method cannot perform features selection; it will not get rid of irrelevant features. \n",
        "\n",
        "Elastic net combines the penalties of ridge and lasso regression in an updated objective function, the relative weights of the penalty terms are governed by an additional paramter apart from the regularisation parameter seen in ridge and lasso alone. By combining the advantages of ridge and lasso, this method is able to perform both variable selection and regularisation. Also, because the quadratic penalty term from ridge regression is added to the objective function as well, elastic net avoids the problems faced in lasso e.g. inability to select more than N number of features when number of features (M) is larger than N, with N being the number of observations. Nonetheless, elastic net does increase computational cost, as the additional parameter governing the relative weights of the two penalities will have to be tuned (e.g. via cross validation). \n"
      ]
    },
    {
      "cell_type": "markdown",
      "metadata": {
        "id": "sdiRdD06ltnE"
      },
      "source": [
        "Qs 6"
      ]
    },
    {
      "cell_type": "code",
      "metadata": {
        "colab": {
          "base_uri": "https://localhost:8080/"
        },
        "id": "FEjlQFpYCTKx",
        "outputId": "6acdcd37-7997-45c6-c274-1326e4bae8bd"
      },
      "source": [
        "#Qs 6: Run 3 regression models and report \n",
        "#linear regression\n",
        "\n",
        "alphas = 10**np.linspace(6,-6,100)  \n",
        "print('With scaling')\n",
        "linreg = LinearRegression()\n",
        "linreg.fit(X_train_scaled, Y_train)\n",
        "y_hat = linreg.predict(X_test_scaled)\n",
        "print('Linear regression MSE is ', mean_squared_error(y_hat, Y_test))\n",
        "print('Linear regression R^2 is ', r2_score(y_hat, Y_test))\n",
        "\n",
        " #linear regression with ridge regularization\n",
        "ridge = Ridge(alpha=alphas[mse_lasso_alphas.index(min(mse_lasso_alphas))])\n",
        "ridge.fit(X_train_scaled, Y_train)\n",
        "y_hat = ridge.predict(X_test_scaled)\n",
        "print('Ridge regression MSE is ', mean_squared_error(y_hat, Y_test))\n",
        "print('Ridge regression R^2 is ', r2_score(y_hat, Y_test))\n",
        "\n",
        "lasso = Lasso(alpha = alphas[mse_lasso_alphas.index(min(mse_lasso_alphas))])\n",
        "lasso.fit(X_train_scaled, Y_train)\n",
        "y_hat = lasso.predict(X_test_scaled)\n",
        "print('Lasso regression MSE is ', mean_squared_error(y_hat, Y_test))\n",
        "print('Lasso regression R^2 is ', r2_score(y_hat, Y_test))\n"
      ],
      "execution_count": 51,
      "outputs": [
        {
          "output_type": "stream",
          "name": "stdout",
          "text": [
            "With scaling\n",
            "Linear regression MSE is  0.005200215496311305\n",
            "Linear regression R^2 is  0.7044797039330424\n",
            "Ridge regression MSE is  0.005200201303379984\n",
            "Ridge regression R^2 is  0.7044796633927576\n",
            "Lasso regression MSE is  0.005169728551461911\n",
            "Lasso regression R^2 is  0.7007472982544634\n"
          ]
        }
      ]
    },
    {
      "cell_type": "markdown",
      "metadata": {
        "id": "j7mHOKfsnb9W"
      },
      "source": [
        "Qs 7"
      ]
    },
    {
      "cell_type": "code",
      "metadata": {
        "colab": {
          "base_uri": "https://localhost:8080/"
        },
        "id": "KA0jWf_DIXEe",
        "outputId": "56ec1d60-36f1-4bb5-8635-bb09de555095"
      },
      "source": [
        "linear_reg = LinearRegression(alpha)\n",
        "linear_reg.fit(X_train,Y_train)\n",
        "parameters = {'alpha':10**np.linspace(6,-6,100)}\n",
        "\n",
        "y_predict = linear_reg.predict(X_test)\n",
        "linear_reg_mse = np.mean((y_predict-Y_test)**2)\n",
        "print('Linear regression MSE is ', linear_reg_mse)\n",
        "print('Linear regression R^2 is ', r2_score(y_predict,Y_test))\n",
        "\n",
        "\n",
        "lasso = linear_model.Lasso()\n",
        "lasso_clf = GridSearchCV(lasso, parameters,cv=5,scoring='neg_mean_squared_error')\n",
        "lasso_clf.fit(X_train,Y_train)\n",
        "\n",
        "\n",
        "y_predict= lasso_clf.predict(X_test)\n",
        "lasso_mse = np.mean((y_predict-Y_test)**2)\n",
        "print('Lasso regression MSE is ', lasso_mse)\n",
        "print('Lasso regression R^2 is ', r2_score(y_predict,Y_test))\n",
        "\n",
        "ridge = linear_model.Ridge()\n",
        "ridge_clf = GridSearchCV(ridge, parameters,cv=5,scoring='neg_mean_squared_error')\n",
        "ridge_clf.fit(X_train,Y_train)\n",
        "\n",
        "y_predict= ridge_clf.predict(X_test)\n",
        "ridge_mse = np.mean((y_predict-Y_test)**2)\n",
        "print('Ridge regression MSE is ', ridge_mse)\n",
        "print('Ridge regression R^2 is ', r2_score(y_predict,Y_test))"
      ],
      "execution_count": 52,
      "outputs": [
        {
          "output_type": "stream",
          "name": "stdout",
          "text": [
            "Linear regression MSE is  0.004526319242200032\n",
            "Linear regression R^2 is  0.7016312211698046\n",
            "Lasso regression MSE is  0.0045544959720175224\n",
            "Lasso regression R^2 is  0.6973794180286559\n",
            "Ridge regression MSE is  0.004522294304599161\n",
            "Ridge regression R^2 is  0.7015517341436139\n"
          ]
        }
      ]
    },
    {
      "cell_type": "markdown",
      "metadata": {
        "id": "mS-ta-pGJh6u"
      },
      "source": [
        "\n",
        "In lasso and regression without regularisation, it can be seen that R2 in the case of scaling before regularisation is higher than in the case of no scaling. Scaling or normalisation is generally encouraged before fitting a regularised model to reduce the bias that features of different ranges may impose on the estimation of coefficients. Imagine that a dataset consists of two features with first feature of significantly larger variance than the second (e.g. one feature in meters, the other one in milimeters). The two features can have the same impact on model output, with coefficients (weight) of first feature a lot smaller than the second one. Regularisation punishes features of high coefficients to reduce the complexity of the model, this would unfairly bias the model, favoring the first feature more than the second one. Hence, it's good practice to scale features before regularisation. \n",
        "\n"
      ]
    },
    {
      "cell_type": "markdown",
      "metadata": {
        "id": "XtLUzmiWt4tT"
      },
      "source": [
        "1)(**2 pts**) Split the data into a training set(75% of data) and a test set(25% of data), using the [train_test_split](https://scikit-learn.org/stable/modules/generated/sklearn.model_selection.train_test_split.html) function with random_state = 50. Then scale the data (not including target) so that each of the independent variables would have zero mean and unit variance. You can use the [sklearn.preprocessing.scale](https://scikit-learn.org/stable/modules/generated/sklearn.preprocessing.scale.html) function for this. Print the first 5 rows of the training set after scaling.\n",
        "\n",
        "2)(**5 pts**) Use [sklearn.linear_model.Lasso](https://scikit-learn.org/stable/modules/generated/sklearn.linear_model.Lasso.html) and [sklearn.linear_model.Ridge](https://scikit-learn.org/stable/modules/generated/sklearn.linear_model.Ridge.html) classes to do a **5-fold** cross validation using sklearn's KFold. For the sweep of the regularization parameter, we will look at a grid of values ranging from α=10^10 to α=10^−6. In Python, you can consider this range of values as follows: alpha = 10**numpy.linspace(6,-6,100) \n",
        "so that you can generate 100 uniform values between -6 to 6 as power series.\n",
        "\n",
        "Fit the 2 regression models with scaled data and report the best chosen **α** based on cross validation as well as the corresponding scoring metric. The cross validation should happen on your training data using **MSE** as the scoring metric.\n",
        "\n",
        "3)(**5 pts**) Run ridge and lasso regression for all of the **α** specified above (on training data), and plot the coefficients learned for each of them - there should be one plot each for lasso and ridge, so a total of two plots; different features' weights of each model should be on the same plot with different colors (3pts). \n",
        "\n",
        "What do you qualitatively observe when the value of the regularization parameter changes (2pts)? \n",
        "\n",
        "4)(**3 pts**) Take the exponential of Y_train as the target, and fit the 2 regression models again. Report the best chosen **α** based on cross validation as well as the corresponding scoring metric. Compare the results of using the original target with the results of using the exponential of the target. What do you observe? \n",
        "\n",
        "5)(**5 pts**) Similarly, use [sklearn.linear_model.ElasticNet](https://scikit-learn.org/stable/modules/generated/sklearn.linear_model.ElasticNet.html) to do linear regression with different **α** values, and plot the coefficients learned for each of them(2pts). Observe the plot, then explain the pros and cons of ridge, lasso and Elastic Net models(3pts).\n",
        "\n",
        "\n",
        "6)(**5 pts**) Run the following three regression models with **MSE** loss on the training data: \n",
        "\n",
        "a. linear regression without regularization (1pts)\n",
        "\n",
        "b. linear regression with ridge regularization (2pts)\n",
        "\n",
        "c. linear regression with lasso regularization (2pts)\n",
        "\n",
        "For part (b) and (c), use only the best regularization parameters. Report the MSE and R<sup>2</sup> on the test data for each of the models.\n",
        "\n",
        "7)(**5 pts**) Train the 3 models and report metrics with the original data without scaling (3pts). \n",
        "\n",
        "Why do we need to scale the data before regularization (2pts)? \n",
        "\n",
        "\n",
        "\n",
        "\n",
        "\n",
        "\n"
      ]
    }
  ]
}